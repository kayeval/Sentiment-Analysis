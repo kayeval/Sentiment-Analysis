{
 "cells": [
  {
   "cell_type": "markdown",
   "metadata": {},
   "source": [
    "Kaye Ng and Vivian Uy's submission for Programming Assessment #4\n",
    "\n",
    "INTRNLP S17"
   ]
  },
  {
   "cell_type": "markdown",
   "metadata": {},
   "source": [
    "## remove this afterwards!\n",
    "\n",
    "********\n",
    "### Data\n",
    "\n",
    "You may follow the procedure done in the Python notebook if you're not sure what to do.\n",
    "\n",
    "Study the data and understand what you have before moving to techniques.\n",
    "\n",
    "The dataset to be used is a smaller version and only contains the sentiment (positive, neutral, negative), the airline in question (Virgin America and US Airways), and the text from the tweet.\n",
    "\n",
    "There are 3,462 tweets in total. Its up to you how you understand the corpus and how its structure might affect the eventual learning model.\n",
    "\n",
    "\n",
    "### Pre-process + Feature Extraction\n",
    "\n",
    "Use at least 3 different feature extraction techniques out of, but not limited to, the following:\n",
    "1. Term counts\n",
    "2. Term frequency\n",
    "3. Term frequency inverse document frequency\n",
    "4. POS tags\n",
    "5. Word sense counts\n",
    "6. Word sense frequency\n",
    "7. Sentiment-related features\n",
    "\n",
    "You're expected to test out different parameters (e.g. # of POS tags, min/max document frequency) for each. It would be nice to report these, but you may stick with the best parameters based on experiments.\n",
    "You may or may not perform pre-processing / cleaning, but you must talk about the effects of processing the data or leaving it raw.\n",
    "1. Can preprocessing help in the boasting the accuracy?\n",
    "2. Is the way you're tokenizing affecting the output?\n",
    "3. Look at things before the learning bit and craft features that might contain loads of information for the classifier.\n",
    "\n",
    "\n",
    "### Machine Learning\n",
    "\n",
    "Limit yourselves to Naive Bayes. You are free to use other ML algorithms, but kindly just use one and focus on the effect of the techniques.\n",
    "Kindly measure accuracy and F1 score (F-measure) for each model for comparison.\n",
    "For simplicity, you can just do a single train and test split (like how the Python notebook shows).\n",
    "\n",
    "There is a lot of room for you to do your thing here, but again, you are to focus on experimenting with different data pre-processing techniques and feature extraction methods. Don't overdo it and just focus on complying with the specs of the assignment. If you want to experiment with more, feel free to do so. :)\n",
    "\n",
    "Please also use tools, like those from ScikitLearn or NLTK. Don't stress yourselves out doing too much. Search for implementations of the techniques.\n",
    "\n",
    "You are also to create a write-up. Write all your observations, queries, comments, violent reactions, whatever. Which features did best/worst? Does it make sense that the best/worst features performed in such a manner? Was the dataset even good in the first place? The write-up has heavier weight than the program, so despite the program, focus on experimentation and note everything down."
   ]
  },
  {
   "cell_type": "markdown",
   "metadata": {},
   "source": [
    "### Importing packages"
   ]
  },
  {
   "cell_type": "code",
   "execution_count": 1,
   "metadata": {},
   "outputs": [],
   "source": [
    "import pandas as pd\n",
    "import nltk\n",
    "import numpy as np\n",
    "import html\n",
    "import re\n",
    "from autocorrect import spell\n",
    "\n",
    "from nltk.stem import WordNetLemmatizer\n",
    "from nltk.corpus import wordnet\n",
    "\n",
    "from sklearn.model_selection import train_test_split\n",
    "\n",
    "from sklearn.feature_extraction.text import CountVectorizer, TfidfVectorizer #, HashingVectorizer\n",
    "# from sklearn.naive_bayes import MultinomialNB\n",
    "# from sklearn.pipeline import Pipeline\n",
    "# from sklearn.metrics import roc_curve, auc\n",
    "\n",
    "import matplotlib.pyplot as plt\n",
    "import seaborn as sns\n",
    "%matplotlib inline"
   ]
  },
  {
   "cell_type": "code",
   "execution_count": 2,
   "metadata": {},
   "outputs": [],
   "source": [
    "# setting up a default plot style\n",
    "\n",
    "def defaultPlotting():\n",
    "    sns.set(rc={'figure.figsize': (12, 6)})\n",
    "    sns.set_context(\"talk\", rc={\"font.size\": 20, \"axes.titlesize\": 18, \"axes.labelsize\": 18})\n",
    "    plt.rcParams['axes.spines.bottom'] = False\n",
    "    plt.rcParams['axes.spines.top'] = False\n",
    "    plt.rcParams['axes.spines.left'] = False\n",
    "    plt.rcParams['axes.spines.right'] = False\n",
    "    plt.rcParams['axes.labelsize'] = 16\n",
    "    plt.rcParams['axes.labelweight'] = 'bold'\n",
    "    plt.rcParams['axes.titlesize'] = 16\n",
    "    plt.rcParams['xtick.labelsize'] = 14\n",
    "    plt.rcParams['ytick.labelsize'] = 14\n",
    "    plt.rcParams['legend.fontsize'] = 14\n",
    "    plt.rcParams['figure.titlesize'] = 24\n",
    "    \n",
    "defaultPlotting()"
   ]
  },
  {
   "cell_type": "code",
   "execution_count": 3,
   "metadata": {},
   "outputs": [],
   "source": [
    "import csv\n",
    "\n",
    "slang_dict = {}\n",
    "contractions = {}\n",
    "\n",
    "def load_dictionary(dictionary, filename):\n",
    "    with open(filename, \"r\") as myCSVfile:\n",
    "        # Reading file as CSV with delimiter as \"=\", so that abbreviation are stored in row[0] and phrases in row[1]\n",
    "        dataFromFile = csv.reader(myCSVfile, delimiter=\"=\")\n",
    "\n",
    "        for row in dataFromFile:\n",
    "            dictionary[row[0].lower()] = row[1].lower()\n",
    "\n",
    "        myCSVfile.close()\n",
    "\n",
    "load_dictionary(slang_dict, \"data/slang.txt\")\n",
    "load_dictionary(contractions, \"data/contractions.txt\")"
   ]
  },
  {
   "cell_type": "code",
   "execution_count": 4,
   "metadata": {},
   "outputs": [],
   "source": [
    "from nltk.tokenize import TweetTokenizer\n",
    "tokenizer = TweetTokenizer(preserve_case=False, strip_handles=True)\n",
    "\n",
    "def tokenize_text(tweet):\n",
    "    return tokenizer.tokenize(tweet)"
   ]
  },
  {
   "cell_type": "code",
   "execution_count": 5,
   "metadata": {},
   "outputs": [],
   "source": [
    "pattern = re.compile(r\"(\\b[-'.]\\b)|[\\W_]\")\n",
    "\n",
    "def remove_punct(doc):\n",
    "    return pattern.sub(lambda m: (m.group(1) if m.group(1) else \" \"), doc)"
   ]
  },
  {
   "cell_type": "code",
   "execution_count": 6,
   "metadata": {},
   "outputs": [],
   "source": [
    "def reduce_word(word):\n",
    "    p = re.compile(r\"(.)\\1{2,}\")\n",
    "    return p.sub(r\"\\1\\1\", word)"
   ]
  },
  {
   "cell_type": "code",
   "execution_count": 7,
   "metadata": {},
   "outputs": [],
   "source": [
    "# from https://stackoverflow.com/a/46564234\n",
    "\n",
    "class LemmatizationWithPOSTagger(object):\n",
    "    def __init__(self):\n",
    "        pass\n",
    "    \n",
    "    def get_wordnet_pos(self, treebank_tag):\n",
    "        \"\"\"\n",
    "        return WORDNET POS compliance to WORDNET lemmatization (a,n,r,v) \n",
    "        \"\"\"\n",
    "        if treebank_tag.startswith('J'):\n",
    "            return wordnet.ADJ\n",
    "        elif treebank_tag.startswith('V'):\n",
    "            return wordnet.VERB\n",
    "        elif treebank_tag.startswith('N'):\n",
    "            return wordnet.NOUN\n",
    "        elif treebank_tag.startswith('R'):\n",
    "            return wordnet.ADV\n",
    "        else:\n",
    "            # default pos in lemmatization is noun\n",
    "            return wordnet.NOUN"
   ]
  },
  {
   "cell_type": "markdown",
   "metadata": {},
   "source": [
    "## todo: use stanfordcorenlp POS tagger"
   ]
  },
  {
   "cell_type": "code",
   "execution_count": 8,
   "metadata": {},
   "outputs": [],
   "source": [
    "def preprocess(word):\n",
    "     # spell check --- slow\n",
    "    word = spell(word)\n",
    "\n",
    "    # get pos\n",
    "    tag = nltk.pos_tag([word])[0][1]\n",
    "#     print(word, tag)\n",
    "    \n",
    "    #filter out non-verbs, non-adjectives and non-adverbs & lemmatize\n",
    "    if tag.startswith('V') or tag.startswith('J') or tag.startswith('R'):\n",
    "#         print('inside if')\n",
    "        return WordNetLemmatizer().lemmatize(word.strip().replace(\".\", \"\"),\n",
    "                                      pos=LemmatizationWithPOSTagger().get_wordnet_pos(\n",
    "                                                        tag))\n",
    "    \n",
    "    return \"\""
   ]
  },
  {
   "cell_type": "code",
   "execution_count": 9,
   "metadata": {},
   "outputs": [],
   "source": [
    "def tokenize_tweet(tweet):\n",
    "    tokenize = tokenize_text(tweet)\n",
    "\n",
    "    cleaned = []\n",
    "    for token in tokenize:\n",
    "        \n",
    "        if token[0] != '#':\n",
    "            cleaned_token = reduce_word(token)\n",
    "            cleaned_token = remove_punct(cleaned_token)\n",
    "            \n",
    "            # expand slang/acronym\n",
    "            if cleaned_token in slang_dict.keys():\n",
    "#                 print('slang found:', '\\t', slang_dict[cleaned_token])\n",
    "                for word in slang_dict[cleaned_token].split():\n",
    "                    cleaned_token = preprocess(word)\n",
    "                    if cleaned_token.strip() != \"\":\n",
    "                        cleaned.append(cleaned_token)\n",
    "                    \n",
    "            elif cleaned_token in contractions.keys():\n",
    "#                 print('contraction found:', '\\t', contractions[cleaned_token])\n",
    "                \n",
    "                for word in contractions[cleaned_token].split():\n",
    "                    cleaned_token = preprocess(word)\n",
    "                    if cleaned_token.strip() != \"\":\n",
    "                        cleaned.append(cleaned_token)\n",
    "                    \n",
    "            else:\n",
    "                cleaned.append(preprocess(cleaned_token))\n",
    "\n",
    "\n",
    "    return ' '.join(cleaned).strip()"
   ]
  },
  {
   "cell_type": "code",
   "execution_count": 10,
   "metadata": {},
   "outputs": [
    {
     "data": {
      "text/plain": [
       "'be miss'"
      ]
     },
     "execution_count": 10,
     "metadata": {},
     "output_type": "execute_result"
    }
   ],
   "source": [
    "tokenize_tweet('hello I am MIA')"
   ]
  },
  {
   "cell_type": "markdown",
   "metadata": {},
   "source": [
    "### Reading and inspecting the data"
   ]
  },
  {
   "cell_type": "code",
   "execution_count": 11,
   "metadata": {},
   "outputs": [],
   "source": [
    "pd.set_option('display.max_colwidth', -1)"
   ]
  },
  {
   "cell_type": "code",
   "execution_count": 12,
   "metadata": {
    "scrolled": true
   },
   "outputs": [],
   "source": [
    "df = pd.read_csv('data/Virgin America and US Airways Tweets.csv', sep='\\t')"
   ]
  },
  {
   "cell_type": "code",
   "execution_count": 13,
   "metadata": {},
   "outputs": [
    {
     "data": {
      "text/html": [
       "<div>\n",
       "<style scoped>\n",
       "    .dataframe tbody tr th:only-of-type {\n",
       "        vertical-align: middle;\n",
       "    }\n",
       "\n",
       "    .dataframe tbody tr th {\n",
       "        vertical-align: top;\n",
       "    }\n",
       "\n",
       "    .dataframe thead th {\n",
       "        text-align: right;\n",
       "    }\n",
       "</style>\n",
       "<table border=\"1\" class=\"dataframe\">\n",
       "  <thead>\n",
       "    <tr style=\"text-align: right;\">\n",
       "      <th></th>\n",
       "      <th>airline_sentiment</th>\n",
       "      <th>airline</th>\n",
       "      <th>text</th>\n",
       "    </tr>\n",
       "  </thead>\n",
       "  <tbody>\n",
       "    <tr>\n",
       "      <th>0</th>\n",
       "      <td>neutral</td>\n",
       "      <td>Virgin America</td>\n",
       "      <td>@VirginAmerica What @dhepburn said.</td>\n",
       "    </tr>\n",
       "    <tr>\n",
       "      <th>1</th>\n",
       "      <td>positive</td>\n",
       "      <td>Virgin America</td>\n",
       "      <td>@VirginAmerica plus you've added commercials to the experience... tacky.</td>\n",
       "    </tr>\n",
       "    <tr>\n",
       "      <th>2</th>\n",
       "      <td>neutral</td>\n",
       "      <td>Virgin America</td>\n",
       "      <td>@VirginAmerica I didn't today... Must mean I need to take another trip!</td>\n",
       "    </tr>\n",
       "    <tr>\n",
       "      <th>3</th>\n",
       "      <td>negative</td>\n",
       "      <td>Virgin America</td>\n",
       "      <td>@VirginAmerica it's really aggressive to blast obnoxious \"entertainment\" in your guests' faces &amp;amp; they have little recourse</td>\n",
       "    </tr>\n",
       "    <tr>\n",
       "      <th>4</th>\n",
       "      <td>negative</td>\n",
       "      <td>Virgin America</td>\n",
       "      <td>@VirginAmerica and it's a really big bad thing about it</td>\n",
       "    </tr>\n",
       "  </tbody>\n",
       "</table>\n",
       "</div>"
      ],
      "text/plain": [
       "  airline_sentiment         airline  \\\n",
       "0  neutral           Virgin America   \n",
       "1  positive          Virgin America   \n",
       "2  neutral           Virgin America   \n",
       "3  negative          Virgin America   \n",
       "4  negative          Virgin America   \n",
       "\n",
       "                                                                                                                             text  \n",
       "0  @VirginAmerica What @dhepburn said.                                                                                             \n",
       "1  @VirginAmerica plus you've added commercials to the experience... tacky.                                                        \n",
       "2  @VirginAmerica I didn't today... Must mean I need to take another trip!                                                         \n",
       "3  @VirginAmerica it's really aggressive to blast obnoxious \"entertainment\" in your guests' faces &amp; they have little recourse  \n",
       "4  @VirginAmerica and it's a really big bad thing about it                                                                         "
      ]
     },
     "execution_count": 13,
     "metadata": {},
     "output_type": "execute_result"
    }
   ],
   "source": [
    "df.head()"
   ]
  },
  {
   "cell_type": "markdown",
   "metadata": {},
   "source": [
    "### Understanding the corpus"
   ]
  },
  {
   "cell_type": "code",
   "execution_count": 14,
   "metadata": {},
   "outputs": [
    {
     "data": {
      "text/plain": [
       "(3417, 3)"
      ]
     },
     "execution_count": 14,
     "metadata": {},
     "output_type": "execute_result"
    }
   ],
   "source": [
    "df.shape"
   ]
  },
  {
   "cell_type": "code",
   "execution_count": 15,
   "metadata": {},
   "outputs": [
    {
     "data": {
      "text/html": [
       "<div>\n",
       "<style scoped>\n",
       "    .dataframe tbody tr th:only-of-type {\n",
       "        vertical-align: middle;\n",
       "    }\n",
       "\n",
       "    .dataframe tbody tr th {\n",
       "        vertical-align: top;\n",
       "    }\n",
       "\n",
       "    .dataframe thead th {\n",
       "        text-align: right;\n",
       "    }\n",
       "</style>\n",
       "<table border=\"1\" class=\"dataframe\">\n",
       "  <thead>\n",
       "    <tr style=\"text-align: right;\">\n",
       "      <th></th>\n",
       "      <th>airline_sentiment</th>\n",
       "      <th>airline</th>\n",
       "      <th>text</th>\n",
       "    </tr>\n",
       "  </thead>\n",
       "  <tbody>\n",
       "    <tr>\n",
       "      <th>count</th>\n",
       "      <td>3417</td>\n",
       "      <td>3417</td>\n",
       "      <td>3417</td>\n",
       "    </tr>\n",
       "    <tr>\n",
       "      <th>unique</th>\n",
       "      <td>3</td>\n",
       "      <td>2</td>\n",
       "      <td>3409</td>\n",
       "    </tr>\n",
       "    <tr>\n",
       "      <th>top</th>\n",
       "      <td>negative</td>\n",
       "      <td>US Airways</td>\n",
       "      <td>@USAirways thank you</td>\n",
       "    </tr>\n",
       "    <tr>\n",
       "      <th>freq</th>\n",
       "      <td>2444</td>\n",
       "      <td>2913</td>\n",
       "      <td>3</td>\n",
       "    </tr>\n",
       "  </tbody>\n",
       "</table>\n",
       "</div>"
      ],
      "text/plain": [
       "       airline_sentiment     airline                  text\n",
       "count   3417              3417        3417                \n",
       "unique  3                 2           3409                \n",
       "top     negative          US Airways  @USAirways thank you\n",
       "freq    2444              2913        3                   "
      ]
     },
     "execution_count": 15,
     "metadata": {},
     "output_type": "execute_result"
    }
   ],
   "source": [
    "df.describe(include='all')"
   ]
  },
  {
   "cell_type": "code",
   "execution_count": 16,
   "metadata": {},
   "outputs": [
    {
     "data": {
      "text/plain": [
       "airline_sentiment    0\n",
       "airline              0\n",
       "text                 0\n",
       "dtype: int64"
      ]
     },
     "execution_count": 16,
     "metadata": {},
     "output_type": "execute_result"
    }
   ],
   "source": [
    "df.isnull().sum()"
   ]
  },
  {
   "cell_type": "code",
   "execution_count": 17,
   "metadata": {},
   "outputs": [
    {
     "data": {
      "text/plain": [
       "negative    2444\n",
       "neutral     552 \n",
       "positive    421 \n",
       "Name: airline_sentiment, dtype: int64"
      ]
     },
     "execution_count": 17,
     "metadata": {},
     "output_type": "execute_result"
    }
   ],
   "source": [
    "df.airline_sentiment.value_counts()"
   ]
  },
  {
   "cell_type": "code",
   "execution_count": 18,
   "metadata": {},
   "outputs": [
    {
     "data": {
      "text/plain": [
       "negative    71.524729\n",
       "neutral     16.154522\n",
       "positive    12.320749\n",
       "Name: airline_sentiment, dtype: float64"
      ]
     },
     "execution_count": 18,
     "metadata": {},
     "output_type": "execute_result"
    }
   ],
   "source": [
    "pct = ((df.airline_sentiment.value_counts() / df.airline_sentiment.count()) * 100)\n",
    "\n",
    "pct"
   ]
  },
  {
   "cell_type": "code",
   "execution_count": 19,
   "metadata": {},
   "outputs": [
    {
     "data": {
      "image/png": "[encoded data removed]",
      "text/plain": [
       "<Figure size 864x432 with 1 Axes>"
      ]
     },
     "metadata": {},
     "output_type": "display_data"
    }
   ],
   "source": [
    "ax = sns.countplot(y=\"airline_sentiment\", data=df, palette=\"Set2\", linewidth=0.3,\n",
    "                   order = df.airline_sentiment.value_counts().index)\n",
    "\n",
    "for i, p in enumerate(ax.patches):\n",
    "    width, height = p.get_width(), p.get_height()\n",
    "    x, y = p.get_xy()\n",
    "    ax.annotate('{0:.2f}%'.format(pct[i]), (p.get_x() + 0.01 * width, p.get_y() + .45 * height), \n",
    "                color='white', ha='left', va='center', fontsize='small')\n",
    "\n",
    "plt.title('Count of each sentiment class', fontsize=24)\n",
    "    \n",
    "plt.grid(False)"
   ]
  },
  {
   "cell_type": "code",
   "execution_count": 20,
   "metadata": {},
   "outputs": [],
   "source": [
    "# Total words per class\n",
    "\n",
    "def count_words(nArray):\n",
    "    punct = '!\"#$%&\\'()*+,-./:;<=>?@[\\\\]^_`{}~'\n",
    "    transtab = str.maketrans(dict.fromkeys(punct, ''))\n",
    "\n",
    "    word_count = 0\n",
    "    for sentence in nArray:\n",
    "        tokens = nltk.word_tokenize(sentence.translate(transtab))\n",
    "        \n",
    "        # the translate portion just removed the punctuation\n",
    "        word_count += len(tokens)\n",
    "\n",
    "    return word_count"
   ]
  },
  {
   "cell_type": "code",
   "execution_count": 21,
   "metadata": {},
   "outputs": [
    {
     "name": "stdout",
     "output_type": "stream",
     "text": [
      "Total words in negative tweets: 48095\n"
     ]
    }
   ],
   "source": [
    "print(\"Total words in negative tweets:\", count_words(df.loc[df.airline_sentiment == 'negative'].text.values))"
   ]
  },
  {
   "cell_type": "code",
   "execution_count": 23,
   "metadata": {},
   "outputs": [
    {
     "name": "stdout",
     "output_type": "stream",
     "text": [
      "Total words in neutral tweets: 8327\n"
     ]
    }
   ],
   "source": [
    "print(\"Total words in neutral tweets:\", count_words(df.loc[df.airline_sentiment == 'neutral'].text.values))"
   ]
  },
  {
   "cell_type": "code",
   "execution_count": 24,
   "metadata": {},
   "outputs": [
    {
     "name": "stdout",
     "output_type": "stream",
     "text": [
      "Total words in positive tweets: 5928\n"
     ]
    }
   ],
   "source": [
    "print(\"Total words in positive tweets:\", count_words(df.loc[df.airline_sentiment == 'positive'].text.values))"
   ]
  },
  {
   "cell_type": "code",
   "execution_count": 25,
   "metadata": {},
   "outputs": [
    {
     "data": {
      "text/plain": [
       "'.@USAirways we have no choice but to pay another $50 to go to the airport in the hopes that we will be treated better by a rep.'"
      ]
     },
     "execution_count": 25,
     "metadata": {},
     "output_type": "execute_result"
    }
   ],
   "source": [
    "df.iloc[3413].text"
   ]
  },
  {
   "cell_type": "code",
   "execution_count": 29,
   "metadata": {},
   "outputs": [
    {
     "data": {
      "text/plain": [
       "[('better', 'RBR')]"
      ]
     },
     "execution_count": 29,
     "metadata": {},
     "output_type": "execute_result"
    }
   ],
   "source": [
    "nltk.pos_tag(['better'])"
   ]
  },
  {
   "cell_type": "markdown",
   "metadata": {},
   "source": [
    "### Pre-processing the text"
   ]
  },
  {
   "cell_type": "code",
   "execution_count": 88,
   "metadata": {},
   "outputs": [
    {
     "data": {
      "text/plain": [
       "\"@VirginAmerica seriously would pay $30 a flight for seats that didn't have this playing.\\nit's really the only bad thing about flying VA\""
      ]
     },
     "execution_count": 88,
     "metadata": {},
     "output_type": "execute_result"
    }
   ],
   "source": [
    "df.iloc[5].text"
   ]
  },
  {
   "cell_type": "code",
   "execution_count": 89,
   "metadata": {},
   "outputs": [],
   "source": [
    "df['text'] = df['text'].apply(lambda x: x.replace(\"\\n\", \" \"))"
   ]
  },
  {
   "cell_type": "code",
   "execution_count": 90,
   "metadata": {},
   "outputs": [
    {
     "data": {
      "text/plain": [
       "\"@VirginAmerica seriously would pay $30 a flight for seats that didn't have this playing. it's really the only bad thing about flying VA\""
      ]
     },
     "execution_count": 90,
     "metadata": {},
     "output_type": "execute_result"
    }
   ],
   "source": [
    "df.iloc[5].text"
   ]
  },
  {
   "cell_type": "code",
   "execution_count": 91,
   "metadata": {},
   "outputs": [
    {
     "data": {
      "text/plain": [
       "'@VirginAmerica it\\'s really aggressive to blast obnoxious \"entertainment\" in your guests\\' faces &amp; they have little recourse'"
      ]
     },
     "execution_count": 91,
     "metadata": {},
     "output_type": "execute_result"
    }
   ],
   "source": [
    "df.iloc[3].text"
   ]
  },
  {
   "cell_type": "code",
   "execution_count": 92,
   "metadata": {},
   "outputs": [],
   "source": [
    "df['text'] = df['text'].apply(lambda x: html.unescape(x))"
   ]
  },
  {
   "cell_type": "code",
   "execution_count": 93,
   "metadata": {},
   "outputs": [
    {
     "data": {
      "text/plain": [
       "'@VirginAmerica it\\'s really aggressive to blast obnoxious \"entertainment\" in your guests\\' faces & they have little recourse'"
      ]
     },
     "execution_count": 93,
     "metadata": {},
     "output_type": "execute_result"
    }
   ],
   "source": [
    "df.iloc[3].text"
   ]
  },
  {
   "cell_type": "code",
   "execution_count": 94,
   "metadata": {},
   "outputs": [
    {
     "data": {
      "text/html": [
       "<div>\n",
       "<style scoped>\n",
       "    .dataframe tbody tr th:only-of-type {\n",
       "        vertical-align: middle;\n",
       "    }\n",
       "\n",
       "    .dataframe tbody tr th {\n",
       "        vertical-align: top;\n",
       "    }\n",
       "\n",
       "    .dataframe thead th {\n",
       "        text-align: right;\n",
       "    }\n",
       "</style>\n",
       "<table border=\"1\" class=\"dataframe\">\n",
       "  <thead>\n",
       "    <tr style=\"text-align: right;\">\n",
       "      <th></th>\n",
       "      <th>airline_sentiment</th>\n",
       "      <th>airline</th>\n",
       "      <th>text</th>\n",
       "    </tr>\n",
       "  </thead>\n",
       "  <tbody>\n",
       "    <tr>\n",
       "      <th>0</th>\n",
       "      <td>neutral</td>\n",
       "      <td>Virgin America</td>\n",
       "      <td>@VirginAmerica What @dhepburn said.</td>\n",
       "    </tr>\n",
       "    <tr>\n",
       "      <th>1</th>\n",
       "      <td>positive</td>\n",
       "      <td>Virgin America</td>\n",
       "      <td>@VirginAmerica plus you've added commercials to the experience... tacky.</td>\n",
       "    </tr>\n",
       "    <tr>\n",
       "      <th>2</th>\n",
       "      <td>neutral</td>\n",
       "      <td>Virgin America</td>\n",
       "      <td>@VirginAmerica I didn't today... Must mean I need to take another trip!</td>\n",
       "    </tr>\n",
       "    <tr>\n",
       "      <th>3</th>\n",
       "      <td>negative</td>\n",
       "      <td>Virgin America</td>\n",
       "      <td>@VirginAmerica it's really aggressive to blast obnoxious \"entertainment\" in your guests' faces &amp; they have little recourse</td>\n",
       "    </tr>\n",
       "    <tr>\n",
       "      <th>4</th>\n",
       "      <td>negative</td>\n",
       "      <td>Virgin America</td>\n",
       "      <td>@VirginAmerica and it's a really big bad thing about it</td>\n",
       "    </tr>\n",
       "  </tbody>\n",
       "</table>\n",
       "</div>"
      ],
      "text/plain": [
       "  airline_sentiment         airline  \\\n",
       "0  neutral           Virgin America   \n",
       "1  positive          Virgin America   \n",
       "2  neutral           Virgin America   \n",
       "3  negative          Virgin America   \n",
       "4  negative          Virgin America   \n",
       "\n",
       "                                                                                                                         text  \n",
       "0  @VirginAmerica What @dhepburn said.                                                                                         \n",
       "1  @VirginAmerica plus you've added commercials to the experience... tacky.                                                    \n",
       "2  @VirginAmerica I didn't today... Must mean I need to take another trip!                                                     \n",
       "3  @VirginAmerica it's really aggressive to blast obnoxious \"entertainment\" in your guests' faces & they have little recourse  \n",
       "4  @VirginAmerica and it's a really big bad thing about it                                                                     "
      ]
     },
     "execution_count": 94,
     "metadata": {},
     "output_type": "execute_result"
    }
   ],
   "source": [
    "df.head()"
   ]
  },
  {
   "cell_type": "markdown",
   "metadata": {},
   "source": [
    "**Problem**: how to convert symbols (incl. emoji) into words?\n",
    "\n",
    "Example:"
   ]
  },
  {
   "cell_type": "code",
   "execution_count": 95,
   "metadata": {},
   "outputs": [
    {
     "data": {
      "text/plain": [
       "'@VirginAmerica I <3 pretty graphics. so much better than minimal iconography. :D'"
      ]
     },
     "execution_count": 95,
     "metadata": {},
     "output_type": "execute_result"
    }
   ],
   "source": [
    "df.iloc[11].text"
   ]
  },
  {
   "cell_type": "markdown",
   "metadata": {},
   "source": [
    "<3 --> 'love' ?"
   ]
  },
  {
   "cell_type": "markdown",
   "metadata": {},
   "source": [
    "**Problem**: typos\n",
    "\n",
    "Example:"
   ]
  },
  {
   "cell_type": "code",
   "execution_count": 96,
   "metadata": {
    "scrolled": true
   },
   "outputs": [
    {
     "data": {
      "text/plain": [
       "'@VirginAmerica Flight from BOS > LAS tomorrow was Cancelled Flightled. No notification; wait times are 1+ hour. Will you rebook on another airline?'"
      ]
     },
     "execution_count": 96,
     "metadata": {},
     "output_type": "execute_result"
    }
   ],
   "source": [
    "df.iloc[182].text"
   ]
  },
  {
   "cell_type": "code",
   "execution_count": 97,
   "metadata": {},
   "outputs": [
    {
     "data": {
      "text/plain": [
       "[('look', 'NN')]"
      ]
     },
     "execution_count": 97,
     "metadata": {},
     "output_type": "execute_result"
    }
   ],
   "source": [
    "nltk.pos_tag(['look'])"
   ]
  },
  {
   "cell_type": "code",
   "execution_count": 98,
   "metadata": {},
   "outputs": [
    {
     "data": {
      "text/plain": [
       "\"@USAirways @AmericanAir you make Spirit look like the gem of air travel. You haven't handle this winter storm very well...\""
      ]
     },
     "execution_count": 98,
     "metadata": {},
     "output_type": "execute_result"
    }
   ],
   "source": [
    "df.iloc[3399].text"
   ]
  },
  {
   "cell_type": "code",
   "execution_count": 102,
   "metadata": {},
   "outputs": [
    {
     "name": "stdout",
     "output_type": "stream",
     "text": [
      "CPU times: user 6min 4s, sys: 9.01 s, total: 6min 13s\n",
      "Wall time: 6min 16s\n"
     ]
    }
   ],
   "source": [
    "%%time\n",
    "\n",
    "df.text = df.text.apply(lambda tweet: tokenize_tweet(tweet))\n",
    "df.head()"
   ]
  },
  {
   "cell_type": "code",
   "execution_count": 105,
   "metadata": {},
   "outputs": [
    {
     "data": {
      "text/html": [
       "<div>\n",
       "<style scoped>\n",
       "    .dataframe tbody tr th:only-of-type {\n",
       "        vertical-align: middle;\n",
       "    }\n",
       "\n",
       "    .dataframe tbody tr th {\n",
       "        vertical-align: top;\n",
       "    }\n",
       "\n",
       "    .dataframe thead th {\n",
       "        text-align: right;\n",
       "    }\n",
       "</style>\n",
       "<table border=\"1\" class=\"dataframe\">\n",
       "  <thead>\n",
       "    <tr style=\"text-align: right;\">\n",
       "      <th></th>\n",
       "      <th>airline_sentiment</th>\n",
       "      <th>airline</th>\n",
       "      <th>text</th>\n",
       "    </tr>\n",
       "  </thead>\n",
       "  <tbody>\n",
       "    <tr>\n",
       "      <th>0</th>\n",
       "      <td>neutral</td>\n",
       "      <td>Virgin America</td>\n",
       "      <td>say</td>\n",
       "    </tr>\n",
       "    <tr>\n",
       "      <th>1</th>\n",
       "      <td>positive</td>\n",
       "      <td>Virgin America</td>\n",
       "      <td>have add</td>\n",
       "    </tr>\n",
       "    <tr>\n",
       "      <th>2</th>\n",
       "      <td>neutral</td>\n",
       "      <td>Virgin America</td>\n",
       "      <td>do not        take</td>\n",
       "    </tr>\n",
       "    <tr>\n",
       "      <th>3</th>\n",
       "      <td>negative</td>\n",
       "      <td>Virgin America</td>\n",
       "      <td>be really aggressive   obnoxious        face   have little</td>\n",
       "    </tr>\n",
       "    <tr>\n",
       "      <th>4</th>\n",
       "      <td>negative</td>\n",
       "      <td>Virgin America</td>\n",
       "      <td>be  really big bad</td>\n",
       "    </tr>\n",
       "  </tbody>\n",
       "</table>\n",
       "</div>"
      ],
      "text/plain": [
       "  airline_sentiment         airline  \\\n",
       "0  neutral           Virgin America   \n",
       "1  positive          Virgin America   \n",
       "2  neutral           Virgin America   \n",
       "3  negative          Virgin America   \n",
       "4  negative          Virgin America   \n",
       "\n",
       "                                                         text  \n",
       "0  say                                                         \n",
       "1  have add                                                    \n",
       "2  do not        take                                          \n",
       "3  be really aggressive   obnoxious        face   have little  \n",
       "4  be  really big bad                                          "
      ]
     },
     "execution_count": 105,
     "metadata": {},
     "output_type": "execute_result"
    }
   ],
   "source": [
    "df.head()"
   ]
  },
  {
   "cell_type": "code",
   "execution_count": 103,
   "metadata": {},
   "outputs": [
    {
     "data": {
      "text/html": [
       "<div>\n",
       "<style scoped>\n",
       "    .dataframe tbody tr th:only-of-type {\n",
       "        vertical-align: middle;\n",
       "    }\n",
       "\n",
       "    .dataframe tbody tr th {\n",
       "        vertical-align: top;\n",
       "    }\n",
       "\n",
       "    .dataframe thead th {\n",
       "        text-align: right;\n",
       "    }\n",
       "</style>\n",
       "<table border=\"1\" class=\"dataframe\">\n",
       "  <thead>\n",
       "    <tr style=\"text-align: right;\">\n",
       "      <th></th>\n",
       "      <th>airline_sentiment</th>\n",
       "      <th>airline</th>\n",
       "      <th>text</th>\n",
       "    </tr>\n",
       "  </thead>\n",
       "  <tbody>\n",
       "    <tr>\n",
       "      <th>3397</th>\n",
       "      <td>negative</td>\n",
       "      <td>US Airways</td>\n",
       "      <td>soon be possible   board        be   be now   be  be still   start</td>\n",
       "    </tr>\n",
       "    <tr>\n",
       "      <th>3398</th>\n",
       "      <td>negative</td>\n",
       "      <td>US Airways</td>\n",
       "      <td>be down   other</td>\n",
       "    </tr>\n",
       "    <tr>\n",
       "      <th>3399</th>\n",
       "      <td>negative</td>\n",
       "      <td>US Airways</td>\n",
       "      <td>make           have not     very well</td>\n",
       "    </tr>\n",
       "    <tr>\n",
       "      <th>3400</th>\n",
       "      <td>positive</td>\n",
       "      <td>US Airways</td>\n",
       "      <td>hop  be clear up</td>\n",
       "    </tr>\n",
       "    <tr>\n",
       "      <th>3401</th>\n",
       "      <td>negative</td>\n",
       "      <td>US Airways</td>\n",
       "      <td>take</td>\n",
       "    </tr>\n",
       "    <tr>\n",
       "      <th>3402</th>\n",
       "      <td>negative</td>\n",
       "      <td>US Airways</td>\n",
       "      <td>file        be        late   still find</td>\n",
       "    </tr>\n",
       "    <tr>\n",
       "      <th>3403</th>\n",
       "      <td>negative</td>\n",
       "      <td>US Airways</td>\n",
       "      <td>be suppose  be       come    be</td>\n",
       "    </tr>\n",
       "    <tr>\n",
       "      <th>3404</th>\n",
       "      <td>neutral</td>\n",
       "      <td>US Airways</td>\n",
       "      <td>soon possible</td>\n",
       "    </tr>\n",
       "    <tr>\n",
       "      <th>3405</th>\n",
       "      <td>negative</td>\n",
       "      <td>US Airways</td>\n",
       "      <td>even get        someone-awesome</td>\n",
       "    </tr>\n",
       "    <tr>\n",
       "      <th>3406</th>\n",
       "      <td>negative</td>\n",
       "      <td>US Airways</td>\n",
       "      <td>almost     now   high      be unacceptable</td>\n",
       "    </tr>\n",
       "    <tr>\n",
       "      <th>3407</th>\n",
       "      <td>negative</td>\n",
       "      <td>US Airways</td>\n",
       "      <td>be be cancel flight     be slow</td>\n",
       "    </tr>\n",
       "    <tr>\n",
       "      <th>3408</th>\n",
       "      <td>negative</td>\n",
       "      <td>US Airways</td>\n",
       "      <td>have   cancel flight twice now       automate     just go   busy</td>\n",
       "    </tr>\n",
       "    <tr>\n",
       "      <th>3409</th>\n",
       "      <td>negative</td>\n",
       "      <td>US Airways</td>\n",
       "      <td>great    ruin             have  now miss</td>\n",
       "    </tr>\n",
       "    <tr>\n",
       "      <th>3410</th>\n",
       "      <td>negative</td>\n",
       "      <td>US Airways</td>\n",
       "      <td>have be      have    extra    be suppose too  be very dissatisfied</td>\n",
       "    </tr>\n",
       "    <tr>\n",
       "      <th>3411</th>\n",
       "      <td>negative</td>\n",
       "      <td>US Airways</td>\n",
       "      <td>be         then     however            go earlier</td>\n",
       "    </tr>\n",
       "    <tr>\n",
       "      <th>3412</th>\n",
       "      <td>negative</td>\n",
       "      <td>US Airways</td>\n",
       "      <td>have be            now   cancel flight  try</td>\n",
       "    </tr>\n",
       "    <tr>\n",
       "      <th>3413</th>\n",
       "      <td>negative</td>\n",
       "      <td>US Airways</td>\n",
       "      <td>have          go          be treat well</td>\n",
       "    </tr>\n",
       "    <tr>\n",
       "      <th>3414</th>\n",
       "      <td>negative</td>\n",
       "      <td>US Airways</td>\n",
       "      <td>have       only   up</td>\n",
       "    </tr>\n",
       "    <tr>\n",
       "      <th>3415</th>\n",
       "      <td>negative</td>\n",
       "      <td>US Airways</td>\n",
       "      <td>suppose     get</td>\n",
       "    </tr>\n",
       "    <tr>\n",
       "      <th>3416</th>\n",
       "      <td>neutral</td>\n",
       "      <td>US Airways</td>\n",
       "      <td>be   look</td>\n",
       "    </tr>\n",
       "  </tbody>\n",
       "</table>\n",
       "</div>"
      ],
      "text/plain": [
       "     airline_sentiment     airline  \\\n",
       "3397  negative          US Airways   \n",
       "3398  negative          US Airways   \n",
       "3399  negative          US Airways   \n",
       "3400  positive          US Airways   \n",
       "3401  negative          US Airways   \n",
       "3402  negative          US Airways   \n",
       "3403  negative          US Airways   \n",
       "3404  neutral           US Airways   \n",
       "3405  negative          US Airways   \n",
       "3406  negative          US Airways   \n",
       "3407  negative          US Airways   \n",
       "3408  negative          US Airways   \n",
       "3409  negative          US Airways   \n",
       "3410  negative          US Airways   \n",
       "3411  negative          US Airways   \n",
       "3412  negative          US Airways   \n",
       "3413  negative          US Airways   \n",
       "3414  negative          US Airways   \n",
       "3415  negative          US Airways   \n",
       "3416  neutral           US Airways   \n",
       "\n",
       "                                                                    text  \n",
       "3397  soon be possible   board        be   be now   be  be still   start  \n",
       "3398  be down   other                                                     \n",
       "3399  make           have not     very well                               \n",
       "3400  hop  be clear up                                                    \n",
       "3401  take                                                                \n",
       "3402  file        be        late   still find                             \n",
       "3403  be suppose  be       come    be                                     \n",
       "3404  soon possible                                                       \n",
       "3405  even get        someone-awesome                                     \n",
       "3406  almost     now   high      be unacceptable                          \n",
       "3407  be be cancel flight     be slow                                     \n",
       "3408  have   cancel flight twice now       automate     just go   busy    \n",
       "3409  great    ruin             have  now miss                            \n",
       "3410  have be      have    extra    be suppose too  be very dissatisfied  \n",
       "3411  be         then     however            go earlier                   \n",
       "3412  have be            now   cancel flight  try                         \n",
       "3413  have          go          be treat well                             \n",
       "3414  have       only   up                                                \n",
       "3415  suppose     get                                                     \n",
       "3416  be   look                                                           "
      ]
     },
     "execution_count": 103,
     "metadata": {},
     "output_type": "execute_result"
    }
   ],
   "source": [
    "df.tail(20)"
   ]
  },
  {
   "cell_type": "markdown",
   "metadata": {},
   "source": [
    "### Splitting into training and testing sets"
   ]
  },
  {
   "cell_type": "code",
   "execution_count": 104,
   "metadata": {},
   "outputs": [
    {
     "name": "stdout",
     "output_type": "stream",
     "text": [
      "=====\n",
      "Training Data\n",
      "Document count: 2391\n",
      "negative: 1712 (0.7160)\n",
      "neutral: 392 (0.1639)\n",
      "positive: 287 (0.1200)\n",
      "=====\n",
      "Testing Data\n",
      "Document count: 1026\n",
      "negative: 732 (0.7135)\n",
      "neutral: 160 (0.1559)\n",
      "positive: 134 (0.1306)\n"
     ]
    }
   ],
   "source": [
    "Y = df.airline_sentiment\n",
    "X = df.text\n",
    "\n",
    "X_train, X_test, Y_train, Y_test = train_test_split(\n",
    "    X, # Features\n",
    "    Y, # Labels\n",
    "    test_size = 0.3, # The defined test size; Training size is just 1 minus the test size\n",
    "    random_state = 12 # So we can shuffle the elements, but with some consistency\n",
    ")\n",
    "\n",
    "print(\"=====\\nTraining Data\")\n",
    "print(\"Document count: %s\" % len(Y_train))\n",
    "labels, counts = np.unique(Y_train, return_counts=True)\n",
    "for label, count in zip(labels, counts):\n",
    "    print(\"%s: %s (%.4f)\" % (label, count, count/len(Y_train)))\n",
    "        \n",
    "print(\"=====\\nTesting Data\")\n",
    "print(\"Document count: %s\" % len(Y_test))\n",
    "labels, counts = np.unique(Y_test, return_counts=True)\n",
    "for label, count in zip(labels, counts):\n",
    "    print(\"%s: %s (%.4f)\" % (label, count, count/len(Y_test)))"
   ]
  },
  {
   "cell_type": "markdown",
   "metadata": {},
   "source": [
    "### Undersampling"
   ]
  },
  {
   "cell_type": "code",
   "execution_count": 47,
   "metadata": {},
   "outputs": [
    {
     "data": {
      "text/plain": [
       "negative    1712\n",
       "neutral     392 \n",
       "positive    287 \n",
       "Name: airline_sentiment, dtype: int64"
      ]
     },
     "execution_count": 47,
     "metadata": {},
     "output_type": "execute_result"
    }
   ],
   "source": [
    "Y_train.value_counts()"
   ]
  },
  {
   "cell_type": "code",
   "execution_count": 48,
   "metadata": {},
   "outputs": [
    {
     "name": "stdout",
     "output_type": "stream",
     "text": [
      "Random under-sampling:\n",
      "negative    287\n",
      "neutral     287\n",
      "positive    287\n",
      "Name: airline_sentiment, dtype: int64\n"
     ]
    },
    {
     "data": {
      "image/png": "[encoded data removed]",
      "text/plain": [
       "<Figure size 864x432 with 1 Axes>"
      ]
     },
     "metadata": {},
     "output_type": "display_data"
    }
   ],
   "source": [
    "count_class_0, count_class_1, count_class_2 = Y_train.value_counts()\n",
    "\n",
    "# Divide by class\n",
    "df_class_0 = Y_train[Y_train  == 'negative']\n",
    "df_class_1 = Y_train[Y_train  == 'neutral']\n",
    "df_class_2 = Y_train[Y_train  == 'positive']\n",
    "\n",
    "df_class_0_under = df_class_0.sample(count_class_2)\n",
    "df_class_1_under = df_class_1.sample(count_class_2)\n",
    "df_test_under = pd.concat([df_class_0_under, df_class_1_under, df_class_2], axis=0)\n",
    "\n",
    "print('Random under-sampling:')\n",
    "print(df_test_under.value_counts())\n",
    "\n",
    "df_test_under.value_counts().plot(kind='barh', title='Count (target)')\n",
    "plt.grid(False)"
   ]
  },
  {
   "cell_type": "code",
   "execution_count": 49,
   "metadata": {},
   "outputs": [],
   "source": [
    "X_train = pd.concat([df.iloc[df_class_0_under.index].text, df.iloc[df_class_1_under.index].text, \n",
    "                    df.iloc[df_class_2.index].text])\n",
    "# X_train\n",
    "# df.iloc[df_class_0_under.index].text\n",
    "Y_train = df_test_under"
   ]
  },
  {
   "cell_type": "code",
   "execution_count": null,
   "metadata": {},
   "outputs": [],
   "source": []
  },
  {
   "cell_type": "code",
   "execution_count": null,
   "metadata": {},
   "outputs": [],
   "source": []
  },
  {
   "cell_type": "markdown",
   "metadata": {},
   "source": [
    "### Extracting features from text"
   ]
  },
  {
   "cell_type": "code",
   "execution_count": null,
   "metadata": {},
   "outputs": [],
   "source": []
  },
  {
   "cell_type": "code",
   "execution_count": null,
   "metadata": {},
   "outputs": [],
   "source": []
  },
  {
   "cell_type": "code",
   "execution_count": null,
   "metadata": {},
   "outputs": [],
   "source": []
  },
  {
   "cell_type": "markdown",
   "metadata": {},
   "source": [
    "### Training the models"
   ]
  },
  {
   "cell_type": "code",
   "execution_count": null,
   "metadata": {},
   "outputs": [],
   "source": []
  },
  {
   "cell_type": "code",
   "execution_count": null,
   "metadata": {},
   "outputs": [],
   "source": []
  },
  {
   "cell_type": "code",
   "execution_count": null,
   "metadata": {},
   "outputs": [],
   "source": []
  },
  {
   "cell_type": "markdown",
   "metadata": {},
   "source": [
    "## OLD"
   ]
  },
  {
   "cell_type": "markdown",
   "metadata": {},
   "source": [
    "### Adding class weights"
   ]
  },
  {
   "cell_type": "code",
   "execution_count": null,
   "metadata": {},
   "outputs": [],
   "source": [
    "from sklearn.preprocessing import LabelBinarizer\n",
    "# y = LabelBinarizer().fit_transform(y)\n",
    "# y.sum(axis=0)"
   ]
  },
  {
   "cell_type": "code",
   "execution_count": 133,
   "metadata": {},
   "outputs": [
    {
     "data": {
      "text/plain": [
       "array([0.46256529, 2.10846561, 2.74827586])"
      ]
     },
     "execution_count": 133,
     "metadata": {},
     "output_type": "execute_result"
    }
   ],
   "source": [
    "from sklearn.utils import class_weight\n",
    "\n",
    "class_weights = class_weight.compute_class_weight('balanced',\n",
    "                                                 np.unique(y_train),\n",
    "                                                 y_train)\n",
    "\n",
    "class_weights"
   ]
  },
  {
   "cell_type": "code",
   "execution_count": null,
   "metadata": {},
   "outputs": [],
   "source": [
    "# clfs = [\n",
    "# #     KNeighborsClassifier(n_neighbors=5),\n",
    "#     MultinomialNB(),\n",
    "# #     svm.SVC(kernel='linear')\n",
    "# ]\n",
    "\n",
    "# for clf in clfs:\n",
    "#     clf.fit(X_train, Y_train)\n",
    "#     y_pred = clf.predict(X_test)\n",
    "#     acc = accuracy_score(Y_test, y_pred)\n",
    "#     f1 = f1_score(Y_test, y_pred, average=None)\n",
    "# #     auc = roc_auc_score(Y_test, y_pred)\n",
    "#     auc = 0\n",
    "\n",
    "#     print(\"%s\\nAccuracy: %s\\nF1 Score: %s\\nAUC: %s\\n=====\" % (clf, acc, f1, auc))"
   ]
  },
  {
   "cell_type": "code",
   "execution_count": 31,
   "metadata": {},
   "outputs": [],
   "source": [
    "from stanfordcorenlp import StanfordCoreNLP\n",
    "nlp = StanfordCoreNLP('http://localhost', port=9000)\n",
    "\n",
    "pos_set = {}\n",
    "def add_to_pos_set(sentence):\n",
    "    pos_set.update(dict(nlp.pos_tag(pattern.sub(lambda m: (m.group(1) if m.group(1) else \" \"),\n",
    "                                           sentence))))"
   ]
  },
  {
   "cell_type": "code",
   "execution_count": 32,
   "metadata": {},
   "outputs": [],
   "source": [
    "def tokenize_tweet(doc):\n",
    "    cleaned = []\n",
    "    tokenize = tokenize_text(doc)\n",
    "\n",
    "    for token in tokenize:\n",
    "\n",
    "        if not token.startswith((\"#\", \"http\")):\n",
    "\n",
    "            cleaned_token = remove_punct(token)\n",
    "            cleaned_token = reduce_word(cleaned_token)\n",
    "\n",
    "            if cleaned_token in slang_dict.keys():\n",
    "                for word in slang_dict[cleaned_token].split():\n",
    "                    if word.strip() != \"\":\n",
    "                        cleaned.append(word)\n",
    "                        \n",
    "            elif cleaned_token in contractions.keys():\n",
    "                for word in contractions[cleaned_token].split():\n",
    "                    if word.strip() != \"\":\n",
    "                        cleaned.append(word)\n",
    "\n",
    "            else:\n",
    "                cleaned.append(get_correct_spelling(cleaned_token))\n",
    "    \n",
    "    return ' '.join(cleaned).strip()"
   ]
  },
  {
   "cell_type": "code",
   "execution_count": 33,
   "metadata": {},
   "outputs": [
    {
     "name": "stderr",
     "output_type": "stream",
     "text": [
      "100%|██████████| 3417/3417 [00:03<00:00, 1059.53it/s]\n"
     ]
    }
   ],
   "source": [
    "from tqdm import tqdm\n",
    "tqdm.pandas()\n",
    "\n",
    "df.text = df.text.progress_apply(lambda tweet: tokenize_tweet(tweet))"
   ]
  },
  {
   "cell_type": "code",
   "execution_count": 34,
   "metadata": {},
   "outputs": [
    {
     "name": "stderr",
     "output_type": "stream",
     "text": [
      "100%|██████████| 3417/3417 [00:39<00:00, 85.73it/s] \n"
     ]
    }
   ],
   "source": [
    "df.text.progress_map(lambda x: add_to_pos_set(x))\n",
    "\n",
    "# Store data (serialize)\n",
    "with open('pos_tag_corpus.pickle', 'wb') as handle:\n",
    "    pickle.dump(pos_set, handle, protocol=pickle.HIGHEST_PROTOCOL)"
   ]
  },
  {
   "cell_type": "code",
   "execution_count": 35,
   "metadata": {
    "scrolled": true
   },
   "outputs": [
    {
     "data": {
      "text/plain": [
       "[(\"'\", '``'),\n",
       " (\"'s\", 'POS'),\n",
       " ('.', '.'),\n",
       " ('0', 'CD'),\n",
       " ('00', 'CD'),\n",
       " ('01', 'NN'),\n",
       " ('0316', 'CD'),\n",
       " ('03723890474', 'CD'),\n",
       " ('0400', 'CD'),\n",
       " ('05', 'CD'),\n",
       " ('07', 'CD'),\n",
       " ('0736', 'CD'),\n",
       " ('0769', 'CD'),\n",
       " ('1', 'CD'),\n",
       " ('1-2', 'CD'),\n",
       " ('1-800', 'CD'),\n",
       " ('1.00', 'CD'),\n",
       " ('1.5', 'CD'),\n",
       " ('10', 'CD'),\n",
       " ('10-24', 'CD'),\n",
       " ('100', 'CD'),\n",
       " ('100cost', 'IN'),\n",
       " ('1030', 'CD'),\n",
       " ('11', 'CD'),\n",
       " ('112', 'CD'),\n",
       " ('1137', 'CD'),\n",
       " ('12', 'CD'),\n",
       " ('12.45', 'CD'),\n",
       " ('120', 'CD'),\n",
       " ('1200', 'CD'),\n",
       " ('1217', 'CD'),\n",
       " ('1230', 'CD'),\n",
       " ('125', 'CD'),\n",
       " ('13', 'CD'),\n",
       " ('130', 'CD'),\n",
       " ('138', 'CD'),\n",
       " ('140', 'CD'),\n",
       " ('15', 'CD'),\n",
       " ('15-18', 'CD'),\n",
       " ('150', 'CD'),\n",
       " ('1500', 'CD'),\n",
       " ('150202-004', 'CD'),\n",
       " ('153.69', 'CD'),\n",
       " ('1581', 'CD'),\n",
       " ('16', 'CD'),\n",
       " ('167', 'CD'),\n",
       " ('17', 'CD'),\n",
       " ('1701', 'CD'),\n",
       " ('1707', 'CD'),\n",
       " ('1712', 'CD'),\n",
       " ('1715', 'CD'),\n",
       " ('1727', 'CD'),\n",
       " ('1729', 'CD'),\n",
       " ('1735', 'CD'),\n",
       " ('1748', 'CD'),\n",
       " ('1769', 'CD'),\n",
       " ('177', 'CD'),\n",
       " ('1773', 'CD'),\n",
       " ('1776', 'CD'),\n",
       " ('1783', 'CD'),\n",
       " ('1791', 'CD'),\n",
       " ('1796', 'CD'),\n",
       " ('1797', 'CD'),\n",
       " ('1798', 'CD'),\n",
       " ('18', 'CD'),\n",
       " ('180', 'CD'),\n",
       " ('1801', 'CD'),\n",
       " ('1808', 'CD'),\n",
       " ('1815', 'CD'),\n",
       " ('1820', 'CD'),\n",
       " ('1826', 'CD'),\n",
       " ('1838', 'CD'),\n",
       " ('1839', 'CD'),\n",
       " ('1848', 'CD'),\n",
       " ('1851', 'CD'),\n",
       " ('1855', 'CD'),\n",
       " ('1856', 'CD'),\n",
       " ('1857', 'CD'),\n",
       " ('1861', 'CD'),\n",
       " ('1874get', 'VB'),\n",
       " ('1875', 'CD'),\n",
       " ('1881', 'CD'),\n",
       " ('1898', 'CD'),\n",
       " ('1899', 'CD'),\n",
       " ('19', 'CD'),\n",
       " ('1903', 'CD'),\n",
       " ('1907', 'CD'),\n",
       " ('1917', 'CD'),\n",
       " ('1923', 'CD'),\n",
       " ('1925', 'CD'),\n",
       " ('1943', 'CD'),\n",
       " ('1946', 'CD'),\n",
       " ('1971', 'CD'),\n",
       " ('1h40m', 'NN'),\n",
       " ('1pm10', 'NN'),\n",
       " ('2', 'CD'),\n",
       " ('2-1', 'CD'),\n",
       " ('2-8', 'CD'),\n",
       " ('2.5', 'CD'),\n",
       " ('20', 'CD'),\n",
       " ('200', 'CD'),\n",
       " ('200fee', 'NN'),\n",
       " ('2014', 'CD'),\n",
       " ('2015', 'CD'),\n",
       " ('2022', 'CD'),\n",
       " ('2023', 'CD'),\n",
       " ('2031', 'CD'),\n",
       " ('2034', 'CD'),\n",
       " ('2046', 'CD'),\n",
       " ('2069', 'CD'),\n",
       " ('20feb15', 'NN'),\n",
       " ('21', 'CD'),\n",
       " ('210', 'CD'),\n",
       " ('2102', 'CD'),\n",
       " ('2118', 'CD'),\n",
       " ('2119', 'CD'),\n",
       " ('2120', 'CD'),\n",
       " ('2133', 'CD'),\n",
       " ('2139', 'CD'),\n",
       " ('214-725-1966', 'CD'),\n",
       " ('214.203', 'CD'),\n",
       " ('22', 'CD'),\n",
       " ('2218', 'CD'),\n",
       " ('223', 'CD'),\n",
       " ('23', 'CD'),\n",
       " ('24', 'CD'),\n",
       " ('25', 'CD'),\n",
       " ('25.00', 'CD'),\n",
       " ('250k', 'JJ'),\n",
       " ('2595', 'RB'),\n",
       " ('26', 'CD'),\n",
       " ('2692', 'CD'),\n",
       " ('2696', 'CD'),\n",
       " ('27', 'CD'),\n",
       " ('2702', 'CD'),\n",
       " ('2705', 'CD'),\n",
       " ('275', 'CD'),\n",
       " ('276', 'CD'),\n",
       " ('28', 'CD'),\n",
       " ('29', 'CD'),\n",
       " ('297', 'CD'),\n",
       " ('2h30m', 'VB'),\n",
       " ('2hr15min', 'JJ'),\n",
       " ('2k424j0', 'CD'),\n",
       " ('3', 'CD'),\n",
       " ('3-1', 'CD'),\n",
       " ('3-4', 'CD'),\n",
       " ('3.5', 'CD'),\n",
       " ('30', 'CD'),\n",
       " ('30-60', 'CD'),\n",
       " ('300', 'CD'),\n",
       " ('300rt', 'NN'),\n",
       " ('3121', 'CD'),\n",
       " ('320', 'CD'),\n",
       " ('325', 'CD'),\n",
       " ('338', 'CD'),\n",
       " ('3389', 'CD'),\n",
       " ('34', 'CD'),\n",
       " ('345', 'CD'),\n",
       " ('35', 'CD'),\n",
       " ('36', 'CD'),\n",
       " ('3739', 'CD'),\n",
       " ('3750', 'CD'),\n",
       " ('3751', 'CD'),\n",
       " ('3818', 'CD'),\n",
       " ('3837', 'CD'),\n",
       " ('3841', 'CD'),\n",
       " ('3860', 'CD'),\n",
       " ('3880', 'CD'),\n",
       " ('3883', 'CD'),\n",
       " ('3923', 'CD'),\n",
       " ('3935', 'CD'),\n",
       " ('3937', 'CD'),\n",
       " ('3960', 'CD'),\n",
       " ('3hr30min', 'JJ'),\n",
       " ('4', 'CD'),\n",
       " ('4-5', 'CD'),\n",
       " ('4-50', 'CD'),\n",
       " ('4-6', 'CD'),\n",
       " ('40', 'CD'),\n",
       " ('40-50', 'CD'),\n",
       " ('400', 'CD'),\n",
       " ('4009', 'CD'),\n",
       " ('4011', 'CD'),\n",
       " ('403', 'CD'),\n",
       " ('4035', 'CD'),\n",
       " ('404', 'CD'),\n",
       " ('4050', 'CD'),\n",
       " ('407', 'CD'),\n",
       " ('4097', 'CD'),\n",
       " ('41', 'CD'),\n",
       " ('413', 'CD'),\n",
       " ('419', 'CD'),\n",
       " ('4210', 'CD'),\n",
       " ('4278', 'CD'),\n",
       " ('428-4322', 'CD'),\n",
       " ('4297', 'CD'),\n",
       " ('4322', 'CD'),\n",
       " ('435', 'CD'),\n",
       " ('437', 'CD'),\n",
       " ('44', 'CD'),\n",
       " ('440', 'CD'),\n",
       " ('4420', 'CD'),\n",
       " ('4424', 'CD'),\n",
       " ('443', 'CD'),\n",
       " ('4435', 'CD'),\n",
       " ('4438', 'CD'),\n",
       " ('4439', 'CD'),\n",
       " ('445', 'CD'),\n",
       " ('4454', 'CD'),\n",
       " ('4469', 'CD'),\n",
       " ('4473', 'CD'),\n",
       " ('4478', 'CD'),\n",
       " ('449', 'CD'),\n",
       " ('45', 'CD'),\n",
       " ('450', 'CD'),\n",
       " ('4500', 'CD'),\n",
       " ('4524', 'CD'),\n",
       " ('4532', 'CD'),\n",
       " ('4553', 'CD'),\n",
       " ('456', 'CD'),\n",
       " ('4565', 'CD'),\n",
       " ('457', 'CD'),\n",
       " ('4609', 'CD'),\n",
       " ('4663', 'CD'),\n",
       " ('470', 'CD'),\n",
       " ('474', 'CD'),\n",
       " ('480', 'CD'),\n",
       " ('4827', 'CD'),\n",
       " ('4914', 'CD'),\n",
       " ('496', 'CD'),\n",
       " ('5', 'CD'),\n",
       " ('5-6', 'CD'),\n",
       " ('5-8', 'CD'),\n",
       " ('50', 'CD'),\n",
       " ('500', 'CD'),\n",
       " ('5015', 'CD'),\n",
       " ('502', 'CD'),\n",
       " ('504', 'CD'),\n",
       " ('5080', 'CD'),\n",
       " ('5084773604', 'CD'),\n",
       " ('5095', 'CD'),\n",
       " ('5097', 'CD'),\n",
       " ('50minss', 'VBZ'),\n",
       " ('51', 'CD'),\n",
       " ('5127', 'CD'),\n",
       " ('5129', 'CD'),\n",
       " ('5136', 'CD'),\n",
       " ('5137', 'CD'),\n",
       " ('513mph', 'JJ'),\n",
       " ('5141', 'CD'),\n",
       " ('5163', 'CD'),\n",
       " ('518', 'CD'),\n",
       " ('5182', 'CD'),\n",
       " ('5202', 'CD'),\n",
       " ('5203', 'CD'),\n",
       " ('5223', 'CD'),\n",
       " ('5238', 'CD'),\n",
       " ('5268', 'CD'),\n",
       " ('5283', 'CD'),\n",
       " ('5302', 'CD'),\n",
       " ('545', 'CD'),\n",
       " ('55', 'CD'),\n",
       " ('550', 'CD'),\n",
       " ('5530', 'CD'),\n",
       " ('5534', 'CD'),\n",
       " ('5545', 'CD'),\n",
       " ('5547', 'CD'),\n",
       " ('556', 'CD'),\n",
       " ('5594', 'CD'),\n",
       " ('561', 'CD'),\n",
       " ('5612', 'CD'),\n",
       " ('581', 'CD'),\n",
       " ('597', 'CD'),\n",
       " ('599', 'CD'),\n",
       " ('6', 'CD'),\n",
       " ('6-10', 'CD'),\n",
       " ('600', 'CD'),\n",
       " ('600117', 'CD'),\n",
       " ('601', 'CD'),\n",
       " ('603', 'CD'),\n",
       " ('604', 'CD'),\n",
       " ('610-362-7498', 'CD'),\n",
       " ('614', 'CD'),\n",
       " ('6170', 'CD'),\n",
       " ('622', 'CD'),\n",
       " ('623', 'CD'),\n",
       " ('628', 'CD'),\n",
       " ('630', 'CD'),\n",
       " ('634', 'CD'),\n",
       " ('639', 'CD'),\n",
       " ('639p', 'JJ'),\n",
       " ('645', 'CD'),\n",
       " ('65', 'CD'),\n",
       " ('657', 'CD'),\n",
       " ('669', 'CD'),\n",
       " ('673', 'CD'),\n",
       " ('680', 'CD'),\n",
       " ('686', 'CD'),\n",
       " ('694', 'CD'),\n",
       " ('695', 'CD'),\n",
       " ('699', 'CD'),\n",
       " ('7', 'CD'),\n",
       " ('700', 'CD'),\n",
       " ('703', 'CD'),\n",
       " ('705', 'CD'),\n",
       " ('713', 'CD'),\n",
       " ('714', 'CD'),\n",
       " ('715', 'CD'),\n",
       " ('719', 'CD'),\n",
       " ('723', 'CD'),\n",
       " ('728', 'CD'),\n",
       " ('729', 'CD'),\n",
       " ('730', 'CD'),\n",
       " ('730a', 'CD'),\n",
       " ('734', 'CD'),\n",
       " ('738', 'CD'),\n",
       " ('740', 'CD'),\n",
       " ('742', 'CD'),\n",
       " ('746', 'CD'),\n",
       " ('747', 'CD'),\n",
       " ('748', 'CD'),\n",
       " ('755', 'CD'),\n",
       " ('758', 'CD'),\n",
       " ('759', 'CD'),\n",
       " ('763', 'CD'),\n",
       " ('769', 'CD'),\n",
       " ('781 879 4505', 'CD'),\n",
       " ('799', 'CD'),\n",
       " ('8.10', 'CD'),\n",
       " ('8.20', 'CD'),\n",
       " ('8.51', 'CD'),\n",
       " ('800', 'CD'),\n",
       " ('800-428-4322', 'CD'),\n",
       " ('805', 'CD'),\n",
       " ('810', 'CD'),\n",
       " ('813', 'CD'),\n",
       " ('816', 'CD'),\n",
       " ('826', 'CD'),\n",
       " ('830', 'CD'),\n",
       " ('835', 'CD'),\n",
       " ('837', 'CD'),\n",
       " ('838', 'CD'),\n",
       " ('849', 'CD'),\n",
       " ('850', 'CD'),\n",
       " ('871', 'CD'),\n",
       " ('878', 'CD'),\n",
       " ('88.9', 'CD'),\n",
       " ('880', 'CD'),\n",
       " ('882', 'CD'),\n",
       " ('883', 'CD'),\n",
       " ('890', 'CD'),\n",
       " ('893', 'CD'),\n",
       " ('894', 'CD'),\n",
       " ('9', 'CD'),\n",
       " ('9.50', 'CD'),\n",
       " ('900', 'CD'),\n",
       " ('910', 'CD'),\n",
       " ('914-329-0185', 'CD'),\n",
       " ('94lxa62', 'NN'),\n",
       " ('D', 'NN'),\n",
       " ('a', 'DT'),\n",
       " ('a319', 'NN'),\n",
       " ('a330', 'CD'),\n",
       " ('aa.com', 'NNP'),\n",
       " ('aa1061', 'NN'),\n",
       " ('aa2595', 'NN'),\n",
       " ('aah', 'NN'),\n",
       " ('abandoned', 'VBN'),\n",
       " ('ability', 'NN'),\n",
       " ('able', 'JJ'),\n",
       " ('aboard', 'IN'),\n",
       " ('abounds', 'VBZ'),\n",
       " ('about', 'IN'),\n",
       " ('above', 'IN'),\n",
       " ('abroad', 'RB'),\n",
       " ('abs', 'NNS'),\n",
       " ('absolute', 'JJ'),\n",
       " ('absolutely', 'RB'),\n",
       " ('absorb', 'VB'),\n",
       " ('absurd', 'JJ'),\n",
       " ('abysmal', 'JJ'),\n",
       " ('acarl4', 'NN'),\n",
       " ('acc', 'NN'),\n",
       " ('accelerate', 'VB'),\n",
       " ('accept', 'VBP'),\n",
       " ('acceptable', 'JJ'),\n",
       " ('accepting', 'VBG'),\n",
       " ('access', 'NN'),\n",
       " ('accessible', 'JJ'),\n",
       " ('accidentally', 'RB'),\n",
       " ('accommodate', 'VBP'),\n",
       " ('accommodated', 'VBN'),\n",
       " ('accommodating', 'VBG'),\n",
       " ('accommodation', 'NN'),\n",
       " ('accommodations', 'NNS'),\n",
       " ('accomplish', 'VBP'),\n",
       " ('according', 'VBG'),\n",
       " ('accordingly', 'RB'),\n",
       " ('account', 'NN'),\n",
       " ('accountability', 'NN'),\n",
       " ('accounts', 'NNS'),\n",
       " ('acct', 'NN'),\n",
       " ('accurate', 'JJ'),\n",
       " ('achieve', 'VB'),\n",
       " ('achieves', 'VBZ'),\n",
       " ('acknowledge', 'VBP'),\n",
       " ('across', 'IN'),\n",
       " ('act', 'NN'),\n",
       " ('action', 'NN'),\n",
       " ('actions', 'NNS'),\n",
       " ('acts', 'VBZ'),\n",
       " ('actual', 'JJ'),\n",
       " ('actually', 'RB'),\n",
       " ('add', 'VBP'),\n",
       " ('added', 'VBD'),\n",
       " ('adding', 'VBG'),\n",
       " ('addition', 'NN'),\n",
       " ('additional', 'JJ'),\n",
       " ('address', 'NN'),\n",
       " ('adds', 'VBZ'),\n",
       " ('admin', 'JJ'),\n",
       " ('admins', 'NNS'),\n",
       " ('admiral', 'NN'),\n",
       " ('admirals', 'NNS'),\n",
       " ('admit', 'VB'),\n",
       " ('adopted', 'VBN'),\n",
       " ('adopting', 'VBG'),\n",
       " ('adore', 'VB'),\n",
       " ('ads', 'NNS'),\n",
       " ('advance', 'NN'),\n",
       " ('advantage', 'NN'),\n",
       " ('advertise', 'VBP'),\n",
       " ('advice', 'NN'),\n",
       " ('advise', 'VB'),\n",
       " ('advisory', 'NN'),\n",
       " ('advisory-now', 'JJ'),\n",
       " ('aesthetics', 'NNS'),\n",
       " ('affairs', 'NNS'),\n",
       " ('affect', 'VB'),\n",
       " ('affected', 'VBN'),\n",
       " ('affecting', 'VBG'),\n",
       " ('affiliates', 'NNS'),\n",
       " ('afford', 'VB'),\n",
       " ('aflame', 'RB'),\n",
       " ('aforementioned', 'JJ'),\n",
       " ('after', 'IN'),\n",
       " ('afternoon', 'NN'),\n",
       " ('afterwards', 'RB'),\n",
       " ('again', 'RB'),\n",
       " ('against', 'IN'),\n",
       " ('agency', 'NN'),\n",
       " ('agent', 'NN'),\n",
       " ('agents', 'NNS'),\n",
       " ('aggravating', 'JJ'),\n",
       " ('aggressive', 'JJ'),\n",
       " ('ago', 'RB'),\n",
       " ('agree', 'VB'),\n",
       " ('ahead', 'RB'),\n",
       " ('air', 'NN'),\n",
       " ('air-miles', 'NNS'),\n",
       " ('airbus', 'NN'),\n",
       " ('aircraft', 'NN'),\n",
       " ('aires', 'NNS'),\n",
       " ('airfare', 'NN'),\n",
       " ('airline', 'NN'),\n",
       " ('airlines', 'NNS'),\n",
       " ('airport', 'NN'),\n",
       " ('airports', 'NNS'),\n",
       " ('airway', 'NN'),\n",
       " ('airways', 'NNS'),\n",
       " ('alan', 'NN'),\n",
       " ('albany', 'NN'),\n",
       " ('alerts', 'VBZ'),\n",
       " ('aligned', 'VBN'),\n",
       " ('alive', 'JJ'),\n",
       " ('all', 'DT'),\n",
       " ('allah', 'NN'),\n",
       " ('alliance', 'NN'),\n",
       " ('allow', 'VB'),\n",
       " ('allowance', 'NN'),\n",
       " ('allowed', 'VBN'),\n",
       " ('allowing', 'VBG'),\n",
       " ('allows', 'VBZ'),\n",
       " ('almost', 'RB'),\n",
       " ('alone', 'RB'),\n",
       " ('along', 'IN'),\n",
       " ('already', 'RB'),\n",
       " ('already-crowded', 'JJ'),\n",
       " ('already-got', 'JJ'),\n",
       " ('alright', 'NN'),\n",
       " ('also', 'RB'),\n",
       " ('alternate', 'JJ'),\n",
       " ('alternatives', 'NNS'),\n",
       " ('although', 'IN'),\n",
       " ('altitude', 'NN'),\n",
       " ('always', 'RB'),\n",
       " ('am', 'VBP'),\n",
       " ('am.sound', 'JJ'),\n",
       " ('amateur', 'JJ'),\n",
       " ('amazed', 'VBN'),\n",
       " ('amazing', 'JJ'),\n",
       " ('amazingly', 'RB'),\n",
       " ('amend', 'VB'),\n",
       " ('america', 'NNS'),\n",
       " ('american', 'VB'),\n",
       " ('among', 'IN'),\n",
       " ('amount', 'NN'),\n",
       " ('amsterdam', 'NN'),\n",
       " ('amtrak', 'JJ'),\n",
       " ('anarchy', 'NN'),\n",
       " ('and', 'CC'),\n",
       " ('andrews', 'NNS'),\n",
       " ('angeles', 'VBZ'),\n",
       " ('angry', 'JJ'),\n",
       " ('ann', 'NN'),\n",
       " ('announce', 'VB'),\n",
       " ('announced', 'VBD'),\n",
       " ('announcement', 'NN'),\n",
       " ('announcements', 'NNS'),\n",
       " ('announces', 'VBZ'),\n",
       " ('announcing', 'VBG'),\n",
       " ('annoyed', 'VBD'),\n",
       " ('annoying', 'JJ'),\n",
       " ('annual', 'JJ'),\n",
       " ('another', 'DT'),\n",
       " ('answer', 'VB'),\n",
       " ('answered', 'VBN'),\n",
       " ('answering', 'VBG'),\n",
       " ('answers', 'VBZ'),\n",
       " ('anthony', 'NN'),\n",
       " ('anticipate', 'VB'),\n",
       " ('anticipation', 'NN'),\n",
       " ('anxiety', 'NN'),\n",
       " ('anxious', 'JJ'),\n",
       " ('any', 'DT'),\n",
       " ('anybody', 'NN'),\n",
       " ('anyhelp', 'NN'),\n",
       " ('anymore', 'RB'),\n",
       " ('anyone', 'NN'),\n",
       " ('anything', 'NN'),\n",
       " ('anytime', 'RB'),\n",
       " ('anyway', 'RB'),\n",
       " ('anywhere', 'RB'),\n",
       " ('apart', 'RB'),\n",
       " ('apathy', 'NN'),\n",
       " ('apologies', 'NNS'),\n",
       " ('apologize', 'VB'),\n",
       " ('apologizes', 'VBZ'),\n",
       " ('apologizing', 'VBG'),\n",
       " ('apology', 'NN'),\n",
       " ('apostrophe', 'NN'),\n",
       " ('app', 'NN'),\n",
       " ('appalled', 'VBN'),\n",
       " ('apparently', 'RB'),\n",
       " ('appealing', 'VBG'),\n",
       " ('appear', 'VB'),\n",
       " ('appears', 'VBZ'),\n",
       " ('appease', 'VB'),\n",
       " ('applaud', 'VBP'),\n",
       " ('apple', 'NN'),\n",
       " ('applicable', 'JJ'),\n",
       " ('application', 'NN'),\n",
       " ('applied', 'VBD'),\n",
       " ('applies', 'VBZ'),\n",
       " ('apply', 'VB'),\n",
       " ('appointments', 'NNS'),\n",
       " ('appreciate', 'VB'),\n",
       " ('appreciated', 'VBN'),\n",
       " ('appreciates', 'VBZ'),\n",
       " ('approach', 'NN'),\n",
       " ('approaching', 'VBG'),\n",
       " ('appropriately', 'RB'),\n",
       " ('approve', 'VB'),\n",
       " ('approximately', 'RB'),\n",
       " ('apr', 'NN'),\n",
       " ('april', 'NNP'),\n",
       " ('apt', 'JJ'),\n",
       " ('arab', 'JJ'),\n",
       " ('are', 'VBP'),\n",
       " ('area', 'NN'),\n",
       " ('argue', 'VBP'),\n",
       " ('argued', 'VBN'),\n",
       " ('arizona', 'NN'),\n",
       " ('armholes', 'NNS'),\n",
       " ('armrest', 'NN'),\n",
       " ('arms', 'NNS'),\n",
       " ('army', 'NN'),\n",
       " ('around', 'IN'),\n",
       " ('arrangements', 'NNS'),\n",
       " ('arrival', 'NN'),\n",
       " ('arrive', 'VB'),\n",
       " ('arrived', 'VBD'),\n",
       " ('arrives', 'VBZ'),\n",
       " ('arriving', 'VBG'),\n",
       " ('arrogant', 'JJ'),\n",
       " ('artisanal', 'JJ'),\n",
       " ('aruba', 'NN'),\n",
       " ('as', 'IN'),\n",
       " ('ashamed', 'JJ'),\n",
       " ('asia', 'IN'),\n",
       " ('aside', 'RB'),\n",
       " ('ask', 'VB'),\n",
       " ('asked', 'VBN'),\n",
       " ('asking', 'VBG'),\n",
       " ('asleep', 'JJ'),\n",
       " ('ass', 'JJ'),\n",
       " ('assaulted', 'VBN'),\n",
       " ('asset', 'NN'),\n",
       " ('assets', 'NNS'),\n",
       " ('assigned', 'VBN'),\n",
       " ('assignment', 'NN'),\n",
       " ('assignments', 'NNS'),\n",
       " ('assist', 'VB'),\n",
       " ('assistance', 'NN'),\n",
       " ('assisting', 'VBG'),\n",
       " ('assume', 'VB'),\n",
       " ('assurances', 'NNS'),\n",
       " ('assured', 'VBN'),\n",
       " ('at', 'IN'),\n",
       " ('athletes', 'NNS'),\n",
       " ('atlanta', 'NN'),\n",
       " ('atlantic', 'NN'),\n",
       " ('atrocious', 'JJ'),\n",
       " ('atrocities', 'NNS'),\n",
       " ('att', 'NN'),\n",
       " ('attach', 'VB'),\n",
       " ('attempt', 'VB'),\n",
       " ('attempting', 'VBG'),\n",
       " ('attend', 'VB'),\n",
       " ('attendant', 'NN'),\n",
       " ('attendant.can', 'NN'),\n",
       " ('attendants', 'NNS'),\n",
       " ('attitude', 'NN'),\n",
       " ('attitudes', 'NNS'),\n",
       " ('aug', 'NN'),\n",
       " ('aus', 'NN'),\n",
       " ('austin', 'VB'),\n",
       " ('austin-dallas', 'JJ'),\n",
       " ('authorize', 'VBP'),\n",
       " ('auto', 'NN'),\n",
       " ('auto-reflight', 'JJ'),\n",
       " ('automated', 'VBN'),\n",
       " ('automatically', 'RB'),\n",
       " ('autoresponse', 'NN'),\n",
       " ('avail', 'NN'),\n",
       " ('availability', 'NN'),\n",
       " ('available', 'JJ'),\n",
       " ('available.your', 'JJ'),\n",
       " ('avatars', 'NNS'),\n",
       " ('ave', 'RB'),\n",
       " ('average', 'JJ'),\n",
       " ('avg', 'NN'),\n",
       " ('avid', 'JJ'),\n",
       " ('avis', 'FW'),\n",
       " ('avoid', 'VB'),\n",
       " ('await', 'VBP'),\n",
       " ('awaiting', 'VBG'),\n",
       " ('awake', 'RB'),\n",
       " ('award', 'NN'),\n",
       " ('awards', 'NNS'),\n",
       " ('aware', 'JJ'),\n",
       " ('away', 'RB'),\n",
       " ('awe', 'JJ'),\n",
       " ('awesome', 'JJ'),\n",
       " ('awful', 'JJ'),\n",
       " ('awol', 'JJ'),\n",
       " ('aye', 'NN'),\n",
       " ('babies', 'NNS'),\n",
       " ('baby', 'NN'),\n",
       " ('back', 'NN'),\n",
       " ('backed', 'VBD'),\n",
       " ('backlog', 'NN'),\n",
       " ('backs', 'NNS'),\n",
       " ('backup', 'NN'),\n",
       " ('backwards', 'RB'),\n",
       " ('backyard', 'NN'),\n",
       " ('bad', 'JJ'),\n",
       " ('badges', 'NNS'),\n",
       " ('badly', 'RB'),\n",
       " ('bag', 'NN'),\n",
       " ('baggage', 'NN'),\n",
       " ('bags', 'NNS'),\n",
       " ('bahamas', 'NNS'),\n",
       " ('bailed', 'VBD'),\n",
       " ('bailey', 'NN'),\n",
       " ('baked', 'JJ'),\n",
       " ('balance', 'NN'),\n",
       " ('baldwin', 'NN'),\n",
       " ('ball', 'NN'),\n",
       " ('balls', 'NNS'),\n",
       " ('ban', 'NN'),\n",
       " ('banbury', 'NN'),\n",
       " ('bank', 'NN'),\n",
       " ('banned', 'VBN'),\n",
       " ('bar', 'NN'),\n",
       " ('barclay', 'NN'),\n",
       " ('barclays', 'NNS'),\n",
       " ('barely', 'RB'),\n",
       " ('barking', 'VBG'),\n",
       " ('barnum', 'NN'),\n",
       " ('based', 'JJ'),\n",
       " ('bashing', 'VBG'),\n",
       " ('basic', 'JJ'),\n",
       " ('basically', 'RB'),\n",
       " ('basket', 'NN'),\n",
       " ('basketball', 'NN'),\n",
       " ('bathroom', 'NN'),\n",
       " ('batteries', 'NNS'),\n",
       " ('battery', 'NN'),\n",
       " ('batting', 'NN'),\n",
       " ('battle', 'NN'),\n",
       " ('battling', 'VBG'),\n",
       " ('bay', 'NN'),\n",
       " ('bdl', 'NN'),\n",
       " ('be', 'VB'),\n",
       " ('beach', 'NN'),\n",
       " ('beans', 'NNS'),\n",
       " ('beat', 'VB'),\n",
       " ('beats', 'NNS'),\n",
       " ('beautiful', 'JJ'),\n",
       " ('beautifully', 'RB'),\n",
       " ('because', 'IN'),\n",
       " ('become', 'VBN'),\n",
       " ('bed', 'NN'),\n",
       " ('beds', 'NNS'),\n",
       " ('been', 'VBN'),\n",
       " ('beer', 'NN'),\n",
       " ('before', 'IN'),\n",
       " ('beg', 'VB'),\n",
       " ('begin', 'VB'),\n",
       " ('begrudgingly', 'RB'),\n",
       " ('begun', 'VBN'),\n",
       " ('behave', 'VB'),\n",
       " ('behaviour', 'NN'),\n",
       " ('behind', 'IN'),\n",
       " ('being', 'VBG'),\n",
       " ('believe', 'VB'),\n",
       " ('belong', 'VBP'),\n",
       " ('below', 'IN'),\n",
       " ('belt', 'NN'),\n",
       " ('ben', 'VBN'),\n",
       " ('bench', 'NN'),\n",
       " ('benefit', 'NN'),\n",
       " ('benefits', 'NNS'),\n",
       " ('bereavement', 'NN'),\n",
       " ('beset', 'JJ'),\n",
       " ('best', 'RB'),\n",
       " ('bet', 'VB'),\n",
       " ('better', 'JJR'),\n",
       " ('betty', 'VBP'),\n",
       " ('between', 'IN'),\n",
       " ('beverage', 'NN'),\n",
       " ('beverages', 'NNS'),\n",
       " ('beware', 'NN'),\n",
       " ('beyond', 'IN'),\n",
       " ('biceps', 'NNS'),\n",
       " ('bid', 'NN'),\n",
       " ('big', 'JJ'),\n",
       " ('bigger', 'JJR'),\n",
       " ('biggest', 'JJS'),\n",
       " ('bigness', 'NN'),\n",
       " ('bike', 'NN'),\n",
       " ('bill', 'NN'),\n",
       " ('billed', 'VBD'),\n",
       " ('billing', 'NN'),\n",
       " ('bin', 'NN'),\n",
       " ('bins', 'NNS'),\n",
       " ('bird', 'NN'),\n",
       " ('birmingham', 'NN'),\n",
       " ('birth', 'NN'),\n",
       " ('birthday', 'NN'),\n",
       " ('births', 'NNS'),\n",
       " ('bit', 'NN'),\n",
       " ('biz', 'NN'),\n",
       " ('black', 'JJ'),\n",
       " ('blame', 'NN'),\n",
       " ('blaming', 'VBG'),\n",
       " ('blank', 'JJ'),\n",
       " ('blast', 'NN'),\n",
       " ('blasting', 'VBG'),\n",
       " ('blatant', 'JJ'),\n",
       " ('blazer', 'JJ'),\n",
       " ('blew', 'VBN'),\n",
       " ('blizzard', 'NN'),\n",
       " ('blog', 'NN'),\n",
       " ('bloody', 'JJ'),\n",
       " ('blowing', 'VBG'),\n",
       " ('blown', 'VBN'),\n",
       " ('blue', 'JJ'),\n",
       " ('board', 'NN'),\n",
       " ('boarded', 'VBD'),\n",
       " ('boarding', 'VBG'),\n",
       " ('boards', 'NNS'),\n",
       " ('boat', 'NN'),\n",
       " ('boeing', 'NN'),\n",
       " ('boggling', 'VBG'),\n",
       " ('bolas', 'NNS'),\n",
       " ('bonus', 'NN'),\n",
       " ('bonuses', 'NNS'),\n",
       " ('boo', 'NN'),\n",
       " ('boohoo', 'NN'),\n",
       " ('book', 'NN'),\n",
       " ('booked', 'VBN'),\n",
       " ('booking', 'NN'),\n",
       " ('books', 'NNS'),\n",
       " ('boom', 'NN'),\n",
       " ('boost', 'VB'),\n",
       " ('booster', 'NN'),\n",
       " ('boots', 'NNS'),\n",
       " ('booze', 'NN'),\n",
       " ('bora', 'NN'),\n",
       " ('borrow', 'VB'),\n",
       " ('bos-clt', 'NN'),\n",
       " ('bos-dca', 'NN'),\n",
       " ('bos-phl', 'NN'),\n",
       " ('boston', 'NN'),\n",
       " ('boswell', 'NN'),\n",
       " ('both', 'CC'),\n",
       " ('bother', 'VB'),\n",
       " ('bottle', 'NN'),\n",
       " ('bottles', 'NNS'),\n",
       " ('bottom', 'JJ'),\n",
       " ('bought', 'VBD'),\n",
       " ('bounce', 'VB'),\n",
       " ('bound', 'VBD'),\n",
       " ('bout', 'NN'),\n",
       " ('box', 'NN'),\n",
       " ('boy', 'NN'),\n",
       " ('boycott', 'NN'),\n",
       " ('boyfriends', 'NNS'),\n",
       " ('boys', 'NNS'),\n",
       " ('bozos', 'NNS'),\n",
       " ('bpm', 'NN'),\n",
       " ('bracket', 'NN'),\n",
       " ('brand', 'NN'),\n",
       " ('bravo', 'NN'),\n",
       " ('brazil', 'NN'),\n",
       " ('breach', 'NN'),\n",
       " ('break', 'NN'),\n",
       " ('breakfast', 'NN'),\n",
       " ('breast', 'NN'),\n",
       " ('breastfeeding', 'VBG'),\n",
       " ('breath', 'NN'),\n",
       " ('breathing', 'VBG'),\n",
       " ('bridge', 'NN'),\n",
       " ('brilliant', 'JJ'),\n",
       " ('bring', 'VBP'),\n",
       " ('bringing', 'VBG'),\n",
       " ('brings', 'VBZ'),\n",
       " ('brisk', 'JJ'),\n",
       " ('brochure', 'NN'),\n",
       " ('broke', 'VBD'),\n",
       " ('broken', 'JJ'),\n",
       " ('brother', 'NN'),\n",
       " ('brothers', 'NNS'),\n",
       " ('brought', 'VBN'),\n",
       " ('browser', 'NN'),\n",
       " ('browsers', 'NNS'),\n",
       " ('brush', 'NN'),\n",
       " ('brutal', 'JJ'),\n",
       " ('btu', 'NN'),\n",
       " ('bubbly', 'RB'),\n",
       " ('bucks', 'NNS'),\n",
       " ('budapest', 'NN'),\n",
       " ('buddies', 'NNS'),\n",
       " ('budget', 'NN'),\n",
       " ('buf-clt', 'NN'),\n",
       " ('bug', 'NN'),\n",
       " ('build', 'VB'),\n",
       " ('built', 'VBN'),\n",
       " ('bullshit', 'NN'),\n",
       " ('bummer', 'NN'),\n",
       " ('bump', 'NN'),\n",
       " ('bumped', 'VBN'),\n",
       " ('bumping', 'VBG'),\n",
       " ('bunch', 'NN'),\n",
       " ('burger', 'NN'),\n",
       " ('burned', 'VBN'),\n",
       " ('burning', 'VBG'),\n",
       " ('burroughs', 'NNS'),\n",
       " ('bus', 'NN'),\n",
       " ('bush', 'JJ'),\n",
       " ('business', 'NN'),\n",
       " ('busses', 'NNS'),\n",
       " ('busy', 'JJ'),\n",
       " ('but', 'CC'),\n",
       " ('butt', 'NN'),\n",
       " ('button', 'NN'),\n",
       " ('buttons', 'NNS'),\n",
       " ('buy', 'VB'),\n",
       " ('buying', 'VBG'),\n",
       " ('buys', 'VBZ'),\n",
       " ('bwahahaha', 'NN'),\n",
       " ('by', 'IN'),\n",
       " ('byz', 'JJ'),\n",
       " ('c68ld9', 'VBP'),\n",
       " ('cab', 'NN'),\n",
       " ('cabaret', 'NN'),\n",
       " ('cabin', 'NN'),\n",
       " ('caching', 'VBG'),\n",
       " ('caffeine', 'NN'),\n",
       " ('cake', 'NN'),\n",
       " ('cal', 'JJ'),\n",
       " ('california', 'NNS'),\n",
       " ('call', 'NN'),\n",
       " ('callback', 'NN'),\n",
       " ('called', 'VBN'),\n",
       " ('callers', 'NNS'),\n",
       " ('calling', 'VBG'),\n",
       " ('calls', 'NNS'),\n",
       " ('calming', 'JJ'),\n",
       " ('came', 'VBD'),\n",
       " ('camera', 'NN'),\n",
       " ('can', 'MD'),\n",
       " ('cana', 'NN'),\n",
       " ('canad', 'NN'),\n",
       " ('cancelled', 'VBD'),\n",
       " ('cancer', 'NN'),\n",
       " ('cancun', 'NN'),\n",
       " ('candice', 'NN'),\n",
       " ('candy', 'NN'),\n",
       " ('canned', 'JJ'),\n",
       " ('cap', 'NN'),\n",
       " ('capacity', 'NN'),\n",
       " ('captain', 'NN'),\n",
       " ('captive', 'JJ'),\n",
       " ('car', 'NN'),\n",
       " ('card', 'NN'),\n",
       " ('cardholder', 'NN'),\n",
       " ('cards', 'NNS'),\n",
       " ('care', 'NN'),\n",
       " ('cared', 'VBD'),\n",
       " ('cares', 'VBZ'),\n",
       " ('cargo', 'NN'),\n",
       " ('carol', 'NN'),\n",
       " ('carolina', 'NNP'),\n",
       " ('carolinas', 'NNS'),\n",
       " ('carousel', 'NN'),\n",
       " ('carpet', 'NN'),\n",
       " ('carrie', 'NN'),\n",
       " ('carried', 'VBN'),\n",
       " ('carrier', 'NN'),\n",
       " ('carriers', 'NNS'),\n",
       " ('carry', 'VB'),\n",
       " ('carryon', 'NN'),\n",
       " ('cars', 'NNS'),\n",
       " ('cart', 'NN'),\n",
       " ('carts', 'NNS'),\n",
       " ('case', 'NN'),\n",
       " ('cases', 'NNS'),\n",
       " ('cash', 'NN'),\n",
       " ('cashback', 'NN'),\n",
       " ('casual', 'JJ'),\n",
       " ('catch', 'VB'),\n",
       " ('catered', 'VBN'),\n",
       " ('cathy', 'NN'),\n",
       " ('caught', 'VBN'),\n",
       " ('cause', 'NN'),\n",
       " ('caused', 'VBN'),\n",
       " ('causes', 'VBZ'),\n",
       " ('causing', 'VBG'),\n",
       " ('cavan', 'NN'),\n",
       " ('cd', 'NN'),\n",
       " ('celebrating', 'VBG'),\n",
       " ('cell', 'NN'),\n",
       " ('central', 'JJ'),\n",
       " ('centres', 'NNS'),\n",
       " ('cents', 'NNS'),\n",
       " ('century', 'NN'),\n",
       " ('cert', 'NN'),\n",
       " ('certain', 'JJ'),\n",
       " ('certainly', 'RB'),\n",
       " ('certificate', 'NN'),\n",
       " ('cessna', 'NNS'),\n",
       " ('cesspool', 'NN'),\n",
       " ('cha', 'NN'),\n",
       " ('chad', 'NN'),\n",
       " ('chain', 'NN'),\n",
       " ('chairman', 'NN'),\n",
       " ('chairs', 'NNS'),\n",
       " ('challenge', 'NN'),\n",
       " ('challenging', 'JJ'),\n",
       " ('chance', 'NN'),\n",
       " ('chances', 'NNS'),\n",
       " ('chang', 'NN'),\n",
       " ('change', 'NN'),\n",
       " ('changed', 'VBD'),\n",
       " ('changes', 'NNS'),\n",
       " ('changing', 'VBG'),\n",
       " ('channel', 'NN'),\n",
       " ('channels', 'NNS'),\n",
       " ('chaos', 'NN'),\n",
       " ('char', 'NN'),\n",
       " ('character', 'NN'),\n",
       " ('characters', 'NNS'),\n",
       " ('charge', 'NN'),\n",
       " ('charged', 'VBD'),\n",
       " ('charges', 'NNS'),\n",
       " ('charging', 'VBG'),\n",
       " ...]"
      ]
     },
     "execution_count": 35,
     "metadata": {},
     "output_type": "execute_result"
    }
   ],
   "source": [
    "sorted(pos_set.items())"
   ]
  },
  {
   "cell_type": "markdown",
   "metadata": {},
   "source": [
    "*****"
   ]
  },
  {
   "cell_type": "code",
   "execution_count": 139,
   "metadata": {},
   "outputs": [
    {
     "data": {
      "text/plain": [
       "['test run cry']"
      ]
     },
     "execution_count": 139,
     "metadata": {},
     "output_type": "execute_result"
    }
   ],
   "source": [
    "def tokenize_tweet(doc):\n",
    "    cleaned = []\n",
    "    tokenize = tokenize_text(doc)\n",
    "\n",
    "    for token in tokenize:\n",
    "\n",
    "        if token[0] != '#':\n",
    "            cleaned_token = reduce_word(token)\n",
    "            cleaned_token = remove_punct(cleaned_token)\n",
    "\n",
    "            # expand slang/acronym\n",
    "            if cleaned_token in slang_dict.keys():\n",
    "#                 print('slang found:', '\\t', slang_dict[cleaned_token])\n",
    "                for word in slang_dict[cleaned_token].split():\n",
    "                    cleaned_token = preprocess(word)\n",
    "                    if cleaned_token.strip() != \"\":\n",
    "                        cleaned.append(cleaned_token)\n",
    "\n",
    "            elif cleaned_token in contractions.keys():\n",
    "#                 print('contraction found:', '\\t', contractions[cleaned_token])\n",
    "\n",
    "                for word in contractions[cleaned_token].split():\n",
    "                    cleaned_token = preprocess(word)\n",
    "                    if cleaned_token.strip() != \"\":\n",
    "                        cleaned.append(cleaned_token)\n",
    "\n",
    "            else:\n",
    "                cleaned.append(preprocess(cleaned_token))\n",
    "\n",
    "\n",
    "    return [' '.join(cleaned).strip()]\n",
    "\n",
    "tokenize_tweet('testing running crying')"
   ]
  }
 ],
 "metadata": {
  "kernelspec": {
   "display_name": "Python 3",
   "language": "python",
   "name": "python3"
  },
  "language_info": {
   "codemirror_mode": {
    "name": "ipython",
    "version": 3
   },
   "file_extension": ".py",
   "mimetype": "text/x-python",
   "name": "python",
   "nbconvert_exporter": "python",
   "pygments_lexer": "ipython3",
   "version": "3.7.2"
  }
 },
 "nbformat": 4,
 "nbformat_minor": 2
}
